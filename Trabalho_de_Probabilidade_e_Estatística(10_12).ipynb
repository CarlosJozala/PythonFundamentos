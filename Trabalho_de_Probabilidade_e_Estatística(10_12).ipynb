{
  "nbformat": 4,
  "nbformat_minor": 0,
  "metadata": {
    "colab": {
      "name": "Trabalho_de_Probabilidade_e_Estatística(10_12).ipynb",
      "provenance": [],
      "collapsed_sections": [
        "g3n2m1BjbOnF",
        "Dm3WnCESpojN"
      ],
      "include_colab_link": true
    },
    "kernelspec": {
      "name": "python3",
      "display_name": "Python 3"
    },
    "language_info": {
      "name": "python"
    }
  },
  "cells": [
    {
      "cell_type": "markdown",
      "metadata": {
        "id": "view-in-github",
        "colab_type": "text"
      },
      "source": [
        "<a href=\"https://colab.research.google.com/github/CarlosJozala/PythonFundamentos/blob/master/Trabalho_de_Probabilidade_e_Estat%C3%ADstica(10_12).ipynb\" target=\"_parent\"><img src=\"https://colab.research.google.com/assets/colab-badge.svg\" alt=\"Open In Colab\"/></a>"
      ]
    },
    {
      "cell_type": "code",
      "metadata": {
        "id": "R5Z1wjfEVB5W"
      },
      "source": [
        "\n",
        "# Carlos Eduardo da Silva Jozala - 2015290029\n"
      ],
      "execution_count": 1,
      "outputs": []
    },
    {
      "cell_type": "code",
      "metadata": {
        "id": "4mAZdMhPVNXf"
      },
      "source": [
        "# Bancos de Dados Inicial\n",
        "import pandas as pd\n",
        "import statistics as st\n",
        "import matplotlib as mpb\n",
        "from scipy import stats\n",
        "import numpy as np\n",
        "import seaborn as sns"
      ],
      "execution_count": 2,
      "outputs": []
    },
    {
      "cell_type": "code",
      "source": [
        "# Bancos de Dados Adicional\n",
        "import scipy.stats\n",
        "import statsmodels.stats.api as sms\n"
      ],
      "metadata": {
        "id": "ZNclwq0GX1uk",
        "colab": {
          "base_uri": "https://localhost:8080/"
        },
        "outputId": "01917a71-a70f-4f3f-c49e-67d5f1c9abbf"
      },
      "execution_count": 3,
      "outputs": [
        {
          "output_type": "stream",
          "name": "stderr",
          "text": [
            "/usr/local/lib/python3.7/dist-packages/statsmodels/tools/_testing.py:19: FutureWarning: pandas.util.testing is deprecated. Use the functions in the public API at pandas.testing instead.\n",
            "  import pandas.util.testing as tm\n"
          ]
        }
      ]
    },
    {
      "cell_type": "markdown",
      "source": [
        "# **Teste**"
      ],
      "metadata": {
        "id": "g3n2m1BjbOnF"
      }
    },
    {
      "cell_type": "code",
      "metadata": {
        "id": "ACtqCNadVfLY"
      },
      "source": [
        "Dados = pd.read_csv('Formulário Probabilidade (respostas) - Respostas ao formulário 1.csv', sep=';', encoding = 'unicode_escape')"
      ],
      "execution_count": 9,
      "outputs": []
    },
    {
      "cell_type": "code",
      "metadata": {
        "colab": {
          "base_uri": "https://localhost:8080/"
        },
        "id": "OFbxwc8eZOmK",
        "outputId": "a38d7892-9eba-418f-8189-6c2ffe2b006f"
      },
      "source": [
        "Dados.shape"
      ],
      "execution_count": 10,
      "outputs": [
        {
          "output_type": "execute_result",
          "data": {
            "text/plain": [
              "(113, 1)"
            ]
          },
          "metadata": {},
          "execution_count": 10
        }
      ]
    },
    {
      "cell_type": "code",
      "metadata": {
        "id": "lZLbpTKRZW3D",
        "colab": {
          "base_uri": "https://localhost:8080/",
          "height": 1000
        },
        "outputId": "a6147503-d032-4b76-e0b5-94bfaa00631b"
      },
      "source": [
        "Dados.sample(n=30,random_state=50)"
      ],
      "execution_count": 11,
      "outputs": [
        {
          "output_type": "execute_result",
          "data": {
            "text/plain": [
              "    Carimbo de data/hora,\"Valorizamos  suas  informaÃ§Ãµes, estas serÃ£o mantidas em sigilo, obrigado por sua contribuiÃ§Ã£o. VocÃª estar de acordo em participar da pesquisa ?\",Nome:,Nome da InstituiÃ§Ã£o Pesquisada:,\"3) Em algum momento durante o ensino remoto, vocÃª pensou em desistir da graduaÃ§Ã£o?\",\"1) Nessas ultimas semanas de inicio do ano letivo, qual emoÃ§Ã£o vocÃª andou sentido ?\",\"2) Durante esse perÃ­odo de ensino remoto, em algum momento, houve uma desmotivaÃ§Ã£o durante os estudos ?\",4) Qual Ã© seu grau de satisfaÃ§Ã£o em relaÃ§Ã£o a metodologia de ensino virtual.,\"5) Em relaÃ§Ã£o a metodologia do ensino virtual, vocÃª sentiu dificuldades em acompanhar o processo de ensino ?\",,PerÃ­odo academico,Idade,Sexo,EndereÃ§o de e-mail,,,\"06) Em escala de 1 a 5, qual foi seu grau de ansiedade durante o ensino remoto ?\",\"Caso tenha respondido sim, por que ? \"\n",
              "50   19/11/2021 20:30:39,Sim,,,Sim,Decepcionado,Sim...                                                                                                                                                                                                                                                                                                                                                                                                                                                                                                                                                                                                                                                                                                                                                                                                                                                    \n",
              "16   14/10/2021 10:56:50,Sim,,,Sim,Neutro,Sim,3,Sim...                                                                                                                                                                                                                                                                                                                                                                                                                                                                                                                                                                                                                                                                                                                                                                                                                                                    \n",
              "42   03/11/2021 20:22:22,Sim,,,Sim,Triste,Sim,2,Sim...                                                                                                                                                                                                                                                                                                                                                                                                                                                                                                                                                                                                                                                                                                                                                                                                                                                    \n",
              "25   18/10/2021 13:15:17,Sim,,,Sim,Neutro,Sim,3,Sim...                                                                                                                                                                                                                                                                                                                                                                                                                                                                                                                                                                                                                                                                                                                                                                                                                                                    \n",
              "65   23/11/2021 19:34:07,Sim,,,Sim,Neutro,Sim,2,NÃ£...                                                                                                                                                                                                                                                                                                                                                                                                                                                                                                                                                                                                                                                                                                                                                                                                                                                    \n",
              "62   23/11/2021 19:11:42,Sim,,,NÃ£o,Neutro,NÃ£o,4,N...                                                                                                                                                                                                                                                                                                                                                                                                                                                                                                                                                                                                                                                                                                                                                                                                                                                    \n",
              "75   23/11/2021 20:15:22,Sim,,,NÃ£o,Triste,Sim,4,Si...                                                                                                                                                                                                                                                                                                                                                                                                                                                                                                                                                                                                                                                                                                                                                                                                                                                    \n",
              "74   23/11/2021 20:03:22,Sim,,,NÃ£o,Feliz,Sim,4,NÃ£...                                                                                                                                                                                                                                                                                                                                                                                                                                                                                                                                                                                                                                                                                                                                                                                                                                                    \n",
              "59   23/11/2021 14:26:45,Sim,,,Sim,Neutro,Sim,3,Sim...                                                                                                                                                                                                                                                                                                                                                                                                                                                                                                                                                                                                                                                                                                                                                                                                                                                    \n",
              "47   18/11/2021 19:56:21,Sim,,,Sim,Neutro,Sim,4,NÃ£...                                                                                                                                                                                                                                                                                                                                                                                                                                                                                                                                                                                                                                                                                                                                                                                                                                                    \n",
              "58   23/11/2021 13:45:45,Sim,,,Sim,Decepcionado,Sim...                                                                                                                                                                                                                                                                                                                                                                                                                                                                                                                                                                                                                                                                                                                                                                                                                                                    \n",
              "21   18/10/2021 12:03:25,Sim,,,Sim,Neutro,Sim,2,Sim...                                                                                                                                                                                                                                                                                                                                                                                                                                                                                                                                                                                                                                                                                                                                                                                                                                                    \n",
              "34   21/10/2021 20:15:23,Sim,,,NÃ£o,Neutro,NÃ£o,5,N...                                                                                                                                                                                                                                                                                                                                                                                                                                                                                                                                                                                                                                                                                                                                                                                                                                                    \n",
              "44   04/11/2021 07:34:46,Sim,,,Sim,Neutro,Sim,4,NÃ£...                                                                                                                                                                                                                                                                                                                                                                                                                                                                                                                                                                                                                                                                                                                                                                                                                                                    \n",
              "98   24/11/2021 05:43:35,Sim,,,Sim,Feliz,Sim,4,NÃ£o...                                                                                                                                                                                                                                                                                                                                                                                                                                                                                                                                                                                                                                                                                                                                                                                                                                                    \n",
              "72   23/11/2021 20:01:22,Sim,,,Sim,Neutro,Sim,3,Sim...                                                                                                                                                                                                                                                                                                                                                                                                                                                                                                                                                                                                                                                                                                                                                                                                                                                    \n",
              "17   15/10/2021 13:32:16,Sim,,,Sim,Decepcionado,Sim...                                                                                                                                                                                                                                                                                                                                                                                                                                                                                                                                                                                                                                                                                                                                                                                                                                                    \n",
              "108  24/11/2021 12:35:14,Sim,,,Sim,Neutro,Sim,3,Sim...                                                                                                                                                                                                                                                                                                                                                                                                                                                                                                                                                                                                                                                                                                                                                                                                                                                    \n",
              "77   23/11/2021 20:32:35,Sim,,,Sim,Neutro,Sim,2,Sim...                                                                                                                                                                                                                                                                                                                                                                                                                                                                                                                                                                                                                                                                                                                                                                                                                                                    \n",
              "39   23/10/2021 13:20:44,Sim,,,Sim,Decepcionado,Sim...                                                                                                                                                                                                                                                                                                                                                                                                                                                                                                                                                                                                                                                                                                                                                                                                                                                    \n",
              "15   14/10/2021 10:17:32,Sim,,,NÃ£o,Neutro,Sim,4,NÃ...                                                                                                                                                                                                                                                                                                                                                                                                                                                                                                                                                                                                                                                                                                                                                                                                                                                    \n",
              "61   23/11/2021 19:07:39,Sim,,,NÃ£o,Feliz,Sim,4,NÃ£...                                                                                                                                                                                                                                                                                                                                                                                                                                                                                                                                                                                                                                                                                                                                                                                                                                                    \n",
              "18   18/10/2021 11:38:51,Sim,,,Sim,Decepcionado,Sim...                                                                                                                                                                                                                                                                                                                                                                                                                                                                                                                                                                                                                                                                                                                                                                                                                                                    \n",
              "38   22/10/2021 13:39:32,Sim,,,NÃ£o,Neutro,Sim,4,Si...                                                                                                                                                                                                                                                                                                                                                                                                                                                                                                                                                                                                                                                                                                                                                                                                                                                    \n",
              "3    14/10/2021 08:52:52,Sim,,,Sim,Decepcionado,Sim...                                                                                                                                                                                                                                                                                                                                                                                                                                                                                                                                                                                                                                                                                                                                                                                                                                                    \n",
              "87   23/11/2021 21:11:38,Sim,,,NÃ£o,Feliz,Sim,3,Sim...                                                                                                                                                                                                                                                                                                                                                                                                                                                                                                                                                                                                                                                                                                                                                                                                                                                    \n",
              "12   14/10/2021 10:03:01,Sim,,,Sim,Decepcionado,Sim...                                                                                                                                                                                                                                                                                                                                                                                                                                                                                                                                                                                                                                                                                                                                                                                                                                                    \n",
              "8    14/10/2021 09:19:33,Sim,,,Sim,Neutro,Sim,2,Sim...                                                                                                                                                                                                                                                                                                                                                                                                                                                                                                                                                                                                                                                                                                                                                                                                                                                    \n",
              "40   23/10/2021 20:41:49,Sim,,,Sim,Decepcionado,Sim...                                                                                                                                                                                                                                                                                                                                                                                                                                                                                                                                                                                                                                                                                                                                                                                                                                                    \n",
              "53   19/11/2021 21:56:02,Sim,,,Sim,Decepcionado,Sim...                                                                                                                                                                                                                                                                                                                                                                                                                                                                                                                                                                                                                                                                                                                                                                                                                                                    "
            ],
            "text/html": [
              "\n",
              "  <div id=\"df-c87b18e1-6626-467d-a699-2302c62ced6f\">\n",
              "    <div class=\"colab-df-container\">\n",
              "      <div>\n",
              "<style scoped>\n",
              "    .dataframe tbody tr th:only-of-type {\n",
              "        vertical-align: middle;\n",
              "    }\n",
              "\n",
              "    .dataframe tbody tr th {\n",
              "        vertical-align: top;\n",
              "    }\n",
              "\n",
              "    .dataframe thead th {\n",
              "        text-align: right;\n",
              "    }\n",
              "</style>\n",
              "<table border=\"1\" class=\"dataframe\">\n",
              "  <thead>\n",
              "    <tr style=\"text-align: right;\">\n",
              "      <th></th>\n",
              "      <th>Carimbo de data/hora,\"Valorizamos  suas  informaÃ§Ãµes, estas serÃ£o mantidas em sigilo, obrigado por sua contribuiÃ§Ã£o. VocÃª estar de acordo em participar da pesquisa ?\",Nome:,Nome da InstituiÃ§Ã£o Pesquisada:,\"3) Em algum momento durante o ensino remoto, vocÃª pensou em desistir da graduaÃ§Ã£o?\",\"1) Nessas ultimas semanas de inicio do ano letivo, qual emoÃ§Ã£o vocÃª andou sentido ?\",\"2) Durante esse perÃ­odo de ensino remoto, em algum momento, houve uma desmotivaÃ§Ã£o durante os estudos ?\",4) Qual Ã© seu grau de satisfaÃ§Ã£o em relaÃ§Ã£o a metodologia de ensino virtual.,\"5) Em relaÃ§Ã£o a metodologia do ensino virtual, vocÃª sentiu dificuldades em acompanhar o processo de ensino ?\",,PerÃ­odo academico,Idade,Sexo,EndereÃ§o de e-mail,,,\"06) Em escala de 1 a 5, qual foi seu grau de ansiedade durante o ensino remoto ?\",\"Caso tenha respondido sim, por que ? \"</th>\n",
              "    </tr>\n",
              "  </thead>\n",
              "  <tbody>\n",
              "    <tr>\n",
              "      <th>50</th>\n",
              "      <td>19/11/2021 20:30:39,Sim,,,Sim,Decepcionado,Sim...</td>\n",
              "    </tr>\n",
              "    <tr>\n",
              "      <th>16</th>\n",
              "      <td>14/10/2021 10:56:50,Sim,,,Sim,Neutro,Sim,3,Sim...</td>\n",
              "    </tr>\n",
              "    <tr>\n",
              "      <th>42</th>\n",
              "      <td>03/11/2021 20:22:22,Sim,,,Sim,Triste,Sim,2,Sim...</td>\n",
              "    </tr>\n",
              "    <tr>\n",
              "      <th>25</th>\n",
              "      <td>18/10/2021 13:15:17,Sim,,,Sim,Neutro,Sim,3,Sim...</td>\n",
              "    </tr>\n",
              "    <tr>\n",
              "      <th>65</th>\n",
              "      <td>23/11/2021 19:34:07,Sim,,,Sim,Neutro,Sim,2,NÃ£...</td>\n",
              "    </tr>\n",
              "    <tr>\n",
              "      <th>62</th>\n",
              "      <td>23/11/2021 19:11:42,Sim,,,NÃ£o,Neutro,NÃ£o,4,N...</td>\n",
              "    </tr>\n",
              "    <tr>\n",
              "      <th>75</th>\n",
              "      <td>23/11/2021 20:15:22,Sim,,,NÃ£o,Triste,Sim,4,Si...</td>\n",
              "    </tr>\n",
              "    <tr>\n",
              "      <th>74</th>\n",
              "      <td>23/11/2021 20:03:22,Sim,,,NÃ£o,Feliz,Sim,4,NÃ£...</td>\n",
              "    </tr>\n",
              "    <tr>\n",
              "      <th>59</th>\n",
              "      <td>23/11/2021 14:26:45,Sim,,,Sim,Neutro,Sim,3,Sim...</td>\n",
              "    </tr>\n",
              "    <tr>\n",
              "      <th>47</th>\n",
              "      <td>18/11/2021 19:56:21,Sim,,,Sim,Neutro,Sim,4,NÃ£...</td>\n",
              "    </tr>\n",
              "    <tr>\n",
              "      <th>58</th>\n",
              "      <td>23/11/2021 13:45:45,Sim,,,Sim,Decepcionado,Sim...</td>\n",
              "    </tr>\n",
              "    <tr>\n",
              "      <th>21</th>\n",
              "      <td>18/10/2021 12:03:25,Sim,,,Sim,Neutro,Sim,2,Sim...</td>\n",
              "    </tr>\n",
              "    <tr>\n",
              "      <th>34</th>\n",
              "      <td>21/10/2021 20:15:23,Sim,,,NÃ£o,Neutro,NÃ£o,5,N...</td>\n",
              "    </tr>\n",
              "    <tr>\n",
              "      <th>44</th>\n",
              "      <td>04/11/2021 07:34:46,Sim,,,Sim,Neutro,Sim,4,NÃ£...</td>\n",
              "    </tr>\n",
              "    <tr>\n",
              "      <th>98</th>\n",
              "      <td>24/11/2021 05:43:35,Sim,,,Sim,Feliz,Sim,4,NÃ£o...</td>\n",
              "    </tr>\n",
              "    <tr>\n",
              "      <th>72</th>\n",
              "      <td>23/11/2021 20:01:22,Sim,,,Sim,Neutro,Sim,3,Sim...</td>\n",
              "    </tr>\n",
              "    <tr>\n",
              "      <th>17</th>\n",
              "      <td>15/10/2021 13:32:16,Sim,,,Sim,Decepcionado,Sim...</td>\n",
              "    </tr>\n",
              "    <tr>\n",
              "      <th>108</th>\n",
              "      <td>24/11/2021 12:35:14,Sim,,,Sim,Neutro,Sim,3,Sim...</td>\n",
              "    </tr>\n",
              "    <tr>\n",
              "      <th>77</th>\n",
              "      <td>23/11/2021 20:32:35,Sim,,,Sim,Neutro,Sim,2,Sim...</td>\n",
              "    </tr>\n",
              "    <tr>\n",
              "      <th>39</th>\n",
              "      <td>23/10/2021 13:20:44,Sim,,,Sim,Decepcionado,Sim...</td>\n",
              "    </tr>\n",
              "    <tr>\n",
              "      <th>15</th>\n",
              "      <td>14/10/2021 10:17:32,Sim,,,NÃ£o,Neutro,Sim,4,NÃ...</td>\n",
              "    </tr>\n",
              "    <tr>\n",
              "      <th>61</th>\n",
              "      <td>23/11/2021 19:07:39,Sim,,,NÃ£o,Feliz,Sim,4,NÃ£...</td>\n",
              "    </tr>\n",
              "    <tr>\n",
              "      <th>18</th>\n",
              "      <td>18/10/2021 11:38:51,Sim,,,Sim,Decepcionado,Sim...</td>\n",
              "    </tr>\n",
              "    <tr>\n",
              "      <th>38</th>\n",
              "      <td>22/10/2021 13:39:32,Sim,,,NÃ£o,Neutro,Sim,4,Si...</td>\n",
              "    </tr>\n",
              "    <tr>\n",
              "      <th>3</th>\n",
              "      <td>14/10/2021 08:52:52,Sim,,,Sim,Decepcionado,Sim...</td>\n",
              "    </tr>\n",
              "    <tr>\n",
              "      <th>87</th>\n",
              "      <td>23/11/2021 21:11:38,Sim,,,NÃ£o,Feliz,Sim,3,Sim...</td>\n",
              "    </tr>\n",
              "    <tr>\n",
              "      <th>12</th>\n",
              "      <td>14/10/2021 10:03:01,Sim,,,Sim,Decepcionado,Sim...</td>\n",
              "    </tr>\n",
              "    <tr>\n",
              "      <th>8</th>\n",
              "      <td>14/10/2021 09:19:33,Sim,,,Sim,Neutro,Sim,2,Sim...</td>\n",
              "    </tr>\n",
              "    <tr>\n",
              "      <th>40</th>\n",
              "      <td>23/10/2021 20:41:49,Sim,,,Sim,Decepcionado,Sim...</td>\n",
              "    </tr>\n",
              "    <tr>\n",
              "      <th>53</th>\n",
              "      <td>19/11/2021 21:56:02,Sim,,,Sim,Decepcionado,Sim...</td>\n",
              "    </tr>\n",
              "  </tbody>\n",
              "</table>\n",
              "</div>\n",
              "      <button class=\"colab-df-convert\" onclick=\"convertToInteractive('df-c87b18e1-6626-467d-a699-2302c62ced6f')\"\n",
              "              title=\"Convert this dataframe to an interactive table.\"\n",
              "              style=\"display:none;\">\n",
              "        \n",
              "  <svg xmlns=\"http://www.w3.org/2000/svg\" height=\"24px\"viewBox=\"0 0 24 24\"\n",
              "       width=\"24px\">\n",
              "    <path d=\"M0 0h24v24H0V0z\" fill=\"none\"/>\n",
              "    <path d=\"M18.56 5.44l.94 2.06.94-2.06 2.06-.94-2.06-.94-.94-2.06-.94 2.06-2.06.94zm-11 1L8.5 8.5l.94-2.06 2.06-.94-2.06-.94L8.5 2.5l-.94 2.06-2.06.94zm10 10l.94 2.06.94-2.06 2.06-.94-2.06-.94-.94-2.06-.94 2.06-2.06.94z\"/><path d=\"M17.41 7.96l-1.37-1.37c-.4-.4-.92-.59-1.43-.59-.52 0-1.04.2-1.43.59L10.3 9.45l-7.72 7.72c-.78.78-.78 2.05 0 2.83L4 21.41c.39.39.9.59 1.41.59.51 0 1.02-.2 1.41-.59l7.78-7.78 2.81-2.81c.8-.78.8-2.07 0-2.86zM5.41 20L4 18.59l7.72-7.72 1.47 1.35L5.41 20z\"/>\n",
              "  </svg>\n",
              "      </button>\n",
              "      \n",
              "  <style>\n",
              "    .colab-df-container {\n",
              "      display:flex;\n",
              "      flex-wrap:wrap;\n",
              "      gap: 12px;\n",
              "    }\n",
              "\n",
              "    .colab-df-convert {\n",
              "      background-color: #E8F0FE;\n",
              "      border: none;\n",
              "      border-radius: 50%;\n",
              "      cursor: pointer;\n",
              "      display: none;\n",
              "      fill: #1967D2;\n",
              "      height: 32px;\n",
              "      padding: 0 0 0 0;\n",
              "      width: 32px;\n",
              "    }\n",
              "\n",
              "    .colab-df-convert:hover {\n",
              "      background-color: #E2EBFA;\n",
              "      box-shadow: 0px 1px 2px rgba(60, 64, 67, 0.3), 0px 1px 3px 1px rgba(60, 64, 67, 0.15);\n",
              "      fill: #174EA6;\n",
              "    }\n",
              "\n",
              "    [theme=dark] .colab-df-convert {\n",
              "      background-color: #3B4455;\n",
              "      fill: #D2E3FC;\n",
              "    }\n",
              "\n",
              "    [theme=dark] .colab-df-convert:hover {\n",
              "      background-color: #434B5C;\n",
              "      box-shadow: 0px 1px 3px 1px rgba(0, 0, 0, 0.15);\n",
              "      filter: drop-shadow(0px 1px 2px rgba(0, 0, 0, 0.3));\n",
              "      fill: #FFFFFF;\n",
              "    }\n",
              "  </style>\n",
              "\n",
              "      <script>\n",
              "        const buttonEl =\n",
              "          document.querySelector('#df-c87b18e1-6626-467d-a699-2302c62ced6f button.colab-df-convert');\n",
              "        buttonEl.style.display =\n",
              "          google.colab.kernel.accessAllowed ? 'block' : 'none';\n",
              "\n",
              "        async function convertToInteractive(key) {\n",
              "          const element = document.querySelector('#df-c87b18e1-6626-467d-a699-2302c62ced6f');\n",
              "          const dataTable =\n",
              "            await google.colab.kernel.invokeFunction('convertToInteractive',\n",
              "                                                     [key], {});\n",
              "          if (!dataTable) return;\n",
              "\n",
              "          const docLinkHtml = 'Like what you see? Visit the ' +\n",
              "            '<a target=\"_blank\" href=https://colab.research.google.com/notebooks/data_table.ipynb>data table notebook</a>'\n",
              "            + ' to learn more about interactive tables.';\n",
              "          element.innerHTML = '';\n",
              "          dataTable['output_type'] = 'display_data';\n",
              "          await google.colab.output.renderOutput(dataTable, element);\n",
              "          const docLink = document.createElement('div');\n",
              "          docLink.innerHTML = docLinkHtml;\n",
              "          element.appendChild(docLink);\n",
              "        }\n",
              "      </script>\n",
              "    </div>\n",
              "  </div>\n",
              "  "
            ]
          },
          "metadata": {},
          "execution_count": 11
        }
      ]
    },
    {
      "cell_type": "code",
      "metadata": {
        "id": "VvvWiv3Pb-_V"
      },
      "source": [
        "Amostra_de_Dados=Dados.sample(n=30,random_state=50)"
      ],
      "execution_count": 12,
      "outputs": []
    },
    {
      "cell_type": "code",
      "metadata": {
        "id": "s4qlMJKtcmy9",
        "colab": {
          "base_uri": "https://localhost:8080/"
        },
        "outputId": "1fc8b5cd-6e74-49f4-e43e-ced06ce66dcf"
      },
      "source": [
        "Amostra_de_Dados.shape"
      ],
      "execution_count": 13,
      "outputs": [
        {
          "output_type": "execute_result",
          "data": {
            "text/plain": [
              "(30, 1)"
            ]
          },
          "metadata": {},
          "execution_count": 13
        }
      ]
    },
    {
      "cell_type": "markdown",
      "source": [
        "# **Dados**"
      ],
      "metadata": {
        "id": "Dm3WnCESpojN"
      }
    },
    {
      "cell_type": "code",
      "source": [
        "# Grau de Satisfação\n",
        "Satisfação = [3,3,3,3,4,2,1,5,2,2,3,3,1,3,3,4,3,1,3,3,2,2,4,2,3,3,2,5,3,4,1,5,1,3,5,5,1,3,4,2,1,1,2,3,4,3,4,4,4,5,2,2,2,3,3,3,3,2,3,3,3,4,4,5,2,2,3,2,4,3,1,3,3,1,4,4,5,2,2,3,4,3,3,3,1,3,3,3,4,3,3,4,3,2,4,5,3,5,4,3,4,2,3,3,3,2,5,4,3,4,2,2,1]\n",
        "def SaTotal():\n",
        "  return Satisfação.count(1)+Satisfação.count(2)+Satisfação.count(3)+Satisfação.count(4)+Satisfação.count(5)"
      ],
      "metadata": {
        "id": "7KwaafAsES9Y"
      },
      "execution_count": null,
      "outputs": []
    },
    {
      "cell_type": "code",
      "source": [
        "# Pensaram em Desistir\n",
        "Pensou_em_Desistência = ['Não','Sim','Sim','Sim','Não','Sim','Não','Não','Sim','Sim','Não','Sim','Sim','Não','Sim','Não','Sim','Sim','Sim','Não','Sim','Sim','Sim','Não','Sim','Sim','Sim','Sim','Não','Não','Sim','Sim','Sim','Sim','Não','Não','Sim','Não','Não','Sim','Sim','Sim','Sim','Não','Sim','Não','Não','Sim','Não','Não','Sim','Não','Sim','Sim','Sim','Sim','Não','Não','Sim','Sim','Sim','Não','Não','Sim','Sim','Sim','Não','Não','Não','Sim','Sim','Sim','Sim','Não','Não','Não','Não','Sim','Sim','Sim','Não','Não','Sim','Sim','Sim','Sim','Sim','Não','Sim','Sim','Não','Não','Sim','Não','Não','Não','Não','Não','Sim','Não','Não','Sim','Sim','Não','Sim','Sim','Sim','Não','Sim','Sim','Não','Sim','Não']\n",
        "def PeDTotal():\n",
        "  return Pensou_em_Desistência.count('Sim')+Pensou_em_Desistência.count('Não')"
      ],
      "metadata": {
        "id": "TnOGC8TwPZ7I"
      },
      "execution_count": null,
      "outputs": []
    },
    {
      "cell_type": "code",
      "source": [
        "# Sentimentos recentes\n",
        "Sentimentos = ['Triste','Neutro','Neutro','Decepcionado','Neutro','Triste','Triste','Neutro','Neutro','Neutro','Decepcionado','Neutro','Decepcionado','Neutro','Decepcionado','Neutro','Neutro','Decepcionado','Decepcionado','Triste','Triste','Neutro','Decepcionado','Neutro','Triste','Neutro','Triste','Decepcionado','Neutro','Neutro','Triste','Feliz','Triste','Neutro','Neutro','Decepcionado','Triste','Feliz','Neutro','Decepcionado','Decepcionado','Triste','Triste','Neutro','Neutro','Neutro','Neutro','Neutro','Neutro','Feliz','Decepcionado','Feliz','Neutro','Decepcionado','Neutro','Neutro','Neutro','Neutro','Decepcionado','Neutro','Neutro','Feliz','Neutro','Neutro','Feliz','Neutro','Neutro','Neutro','Neutro','Neutro','Triste','Neutro','Neutro','Neutro','Feliz','Triste','Feliz','Neutro','Decepcionado','Neutro','Feliz','Neutro','Neutro','Neutro','Triste','Decepcionado','Neutro','Feliz','Decepcionado','Neutro','Neutro','Neutro','Decepcionado','Neutro','Feliz','Feliz','Feliz','Feliz','Feliz','Decepcionado','Neutro','Decepcionado','Decepcionado','Feliz','Decepcionado','Decepcionado','Neutro','Feliz','Neutro','Neutro','Decepcionado','Triste','Triste']\n",
        "def SenTotal():\n",
        "  return Sentimentos.count('Triste')+Sentimentos.count('Decepcionado')+Sentimentos.count('Neutro')+Sentimentos.count('Feliz')\n",
        "def SenPosi():\n",
        "  return Sentimentos.count('Neutro')+Sentimentos.count('Feliz')\n",
        "def SenNeg(): \n",
        "  return Sentimentos.count('Triste')+Sentimentos.count('Decepcionado')"
      ],
      "metadata": {
        "id": "TWoRE1ZJaMYu"
      },
      "execution_count": null,
      "outputs": []
    },
    {
      "cell_type": "code",
      "source": [
        "# Sentiram-se Desmotivados\n",
        "Desmotivação = ['Sim','Sim','Sim','Sim','Não','Sim','Sim','Não','Sim','Sim','Sim','Sim','Sim','Sim','Sim','Sim','Sim','Sim','Sim','Sim','Sim','Sim','Sim','Sim','Sim','Sim','Sim','Sim','Sim','Não','Sim','Sim','Sim','Sim','Não','Não','Sim','Sim','Sim','Sim','Sim','Sim','Sim','Sim','Sim','Sim','Não','Sim','Sim','Não','Sim','Não','Sim','Sim','Sim','Sim','Sim','Sim','Sim','Sim','Sim','Sim','Não','Sim','Sim','Sim','Sim','Sim','Sim','Sim','Sim','Sim','Sim','Não','Sim','Sim','Não','Sim','Sim','Sim','Sim','Sim','Sim','Sim','Sim','Sim','Sim','Sim','Sim','Sim','Não','Não','Sim','Sim','Não','Não','Sim','Não','Sim','Sim','Não','Sim','Sim','Sim','Sim','Sim','Sim','Sim','Sim','Sim','Sim','Sim','Sim']\n",
        "def DesTotal():\n",
        "  return Desmotivação.count('Sim')+Desmotivação.count('Não')"
      ],
      "metadata": {
        "id": "39NKxODgqFZX"
      },
      "execution_count": null,
      "outputs": []
    },
    {
      "cell_type": "code",
      "source": [
        "# Dificuldade na Metodologia\n",
        "Dificuldade  = ['Sim','Sim','Sim','Sim','Sim','Sim','Sim','Não','Sim','Sim','Sim','Não','Sim','Não','Sim','Não','Sim','Sim','Sim','Sim','Sim','Sim','Sim','Sim','Sim','Sim','Sim','Sim','Sim','Não','Sim','Não','Sim','Sim','Não','Não','Sim','Não','Sim','Sim','Sim','Sim','Sim','Não','Não','Sim','Não','Não','Sim','Não','Sim','Sim','Sim','Sim','Sim','Sim','Não','Sim','Sim','Sim','Não','Não','Não','Sim','Sim','Não','Sim','Sim','Não','Sim','Sim','Sim','Sim','Não','Não','Sim','Não','Sim','Não','Sim','Não','Sim','Sim','Sim','Sim','Sim','Não','Sim','Não','Sim','Não','Não','Sim','Sim','Não','Sim','Sim','Não','Não','Sim','Não','Sim','Sim','Não','Sim','Sim','Não','Sim','Sim','Não','Sim','Sim','Sim']\n",
        "def DifTotal():\n",
        "  return Dificuldade.count('Sim')+Dificuldade.count('Não')"
      ],
      "metadata": {
        "id": "1r_sjvxVvgd2"
      },
      "execution_count": null,
      "outputs": []
    },
    {
      "cell_type": "code",
      "source": [
        "# Período, Idade e Gênero\n",
        "PeríodUni = [9,3,3,3,6,3,3,3,4,3,5,5,3,5,5,5,5,3,3,5,5,8,5,5,5,5,1,8,3,5,5,1,5,1,10,7,8,1,1,9,7,5,10,9,10,1,9,9,8,10,4,4,1,2,1,2,3,2,4,5,4,2,1,2,1,2,4,32,7,3,3,2,4,1,12,4,3,4,10,4,7,4,4,4,4,6,5,4,'-',10,3,3,4,3,6,3,10,10,2,3,3,4,4,3,2,4,'-',2,7,3,4]\n",
        "Idade = [24,24,19,18,26,20,19,31,19,20,20,20,23,27,20,20,40,20,20,28,19,28,20,20,20,20,18,42,20,22,19,30,20,36,25,25,26,17,19,24,20,21,24,25,30,18,34,23,42,62,19,19,19.19,18,20,19,20,19,41,19,19,18,46,22,19,19,19,18,22,18,22,18,21,21,20,18,42,29,25,19,21,24,19,22,22,20,21,30,19,42,25,18,19,31,20,21,43,24,24,19,22,24,20,19,20,20,22,28,20,24,19,20]\n",
        "Gen = ['Masculino','Masculino','Feminino','Masculino','Feminino','Masculino','Masculino','Masculino','Masculino','Feminino','Feminino','Masculino','Masculino','Masculino','Masculino','Masculino','Feminino','Feminino','Masculino','Feminino','Masculino','Feminino','Feminino','Feminino','Masculino','Masculino','Masculino','Feminino','Masculino','Masculino','Feminino','Masculino','Masculino','Masculino','Feminino','Masculino','Masculino','Feminino','Masculino','Feminino','Masculino','Masculino','Feminino','Feminino','Masculino','Feminino','Masculino','Feminino','Masculino','Masculino','Masculino','Masculino','Feminino','Feminino','Feminino','Masculino','Masculino','Masculino','Feminino','Feminino','Feminino','Feminino','Masculino','Feminino','Feminino','Masculino','Masculino','Masculino','Feminino','Feminino','Feminino','Masculino','Feminino','Masculino','Masculino','Masculino','Masculino','Feminino','Masculino','Feminino','Masculino','Feminino','Masculino','Feminino','Feminino','Feminino','Feminino','Masculino','Masculino','Masculino','Feminino','Masculino','Masculino','Feminino','Feminino','Masculino','Masculino','Masculino','Masculino','Feminino','Feminino','Masculino','Masculino','Masculino','Feminino','Feminino','Feminino','Masculino','Masculino','Feminino','Feminino','Masculino','Feminino']\n",
        "def GenTotal():\n",
        "  return Gen.count('Masculino')+Gen.count(Feminino)"
      ],
      "metadata": {
        "id": "4aaGUOUA7dcX"
      },
      "execution_count": null,
      "outputs": []
    },
    {
      "cell_type": "code",
      "source": [
        "# Matriz P/I/G\n",
        "Matriz_PIG = [[9,3,3,3,6,3,3,3,4,3,5,5,3,5,5,5,5,3,3,5,5,8,5,5,5,5,1,8,3,5,5,1,5,1,10,7,8,1,1,9,7,5,10,9,10,1,9,9,8,10,4,4,1,2,1,2,3,2,4,5,4,2,1,2,1,2,4,32,7,3,3,2,4,1,12,4,3,4,10,4,7,4,4,4,4,6,5,4,'-',10,3,3,4,3,6,3,10,10,2,3,3,4,4,3,2,4,'-',2,7,3,4],[24,24,19,18,26,20,19,31,19,20,20,20,23,27,20,20,40,20,20,28,19,28,20,20,20,20,18,42,20,22,19,30,20,36,25,25,26,17,19,24,20,21,24,25,30,18,34,23,42,62,19,19,19.19,18,20,19,20,19,41,19,19,18,46,22,19,19,19,18,22,18,22,18,21,21,20,18,42,29,25,19,21,24,19,22,22,20,21,30,19,42,25,18,19,31,20,21,43,24,24,19,22,24,20,19,20,20,22,28,20,24,19,20],['Masculino','Masculino','Feminino','Masculino','Feminino','Masculino','Masculino','Masculino','Masculino','Feminino','Feminino','Masculino','Masculino','Masculino','Masculino','Masculino','Feminino','Feminino','Masculino','Feminino','Masculino','Feminino','Feminino','Feminino','Masculino','Masculino','Masculino','Feminino','Masculino','Masculino','Feminino','Masculino','Masculino','Masculino','Feminino','Masculino','Masculino','Feminino','Masculino','Feminino','Masculino','Masculino','Feminino','Feminino','Masculino','Feminino','Masculino','Feminino','Masculino','Masculino','Masculino','Masculino','Feminino','Feminino','Feminino','Masculino','Masculino','Masculino','Feminino','Feminino','Feminino','Feminino','Masculino','Feminino','Feminino','Masculino','Masculino','Masculino','Feminino','Feminino','Feminino','Masculino','Feminino','Masculino','Masculino','Masculino','Masculino','Feminino','Masculino','Feminino','Masculino','Feminino','Masculino','Feminino','Feminino','Feminino','Feminino','Masculino','Masculino','Masculino','Feminino','Masculino','Masculino','Feminino','Feminino','Masculino','Masculino','Masculino','Masculino','Feminino','Feminino','Masculino','Masculino','Masculino','Feminino','Feminino','Feminino','Masculino','Masculino','Feminino','Feminino','Masculino','Feminino']]\n"
      ],
      "metadata": {
        "id": "owW69yoOJz2D"
      },
      "execution_count": null,
      "outputs": []
    },
    {
      "cell_type": "code",
      "source": [
        "def cv(n):\n",
        "  return round(st.stdev(n)/st.mean(n),3)"
      ],
      "metadata": {
        "id": "yEBpcrDYZODl"
      },
      "execution_count": null,
      "outputs": []
    },
    {
      "cell_type": "code",
      "source": [
        "def mean_confidence_interval(data, confidence=0.95):\n",
        "    a = 1.0 * np.array(data)\n",
        "    n = len(a)\n",
        "    m, se = np.mean(a), scipy.stats.sem(a)\n",
        "    h = se * scipy.stats.t.ppf((1 + confidence) / 2., n-1)\n",
        "    return m, m-h, m+h"
      ],
      "metadata": {
        "id": "1lyODREBT6KT"
      },
      "execution_count": null,
      "outputs": []
    },
    {
      "cell_type": "code",
      "source": [
        "mean_confidence_interval(Satisfação)"
      ],
      "metadata": {
        "id": "YH9AhkpxXZpX"
      },
      "execution_count": null,
      "outputs": []
    },
    {
      "cell_type": "code",
      "source": [
        "sms.DescrStatsW(Satisfação).tconfint_mean()"
      ],
      "metadata": {
        "id": "KMBDvO1pYOys"
      },
      "execution_count": null,
      "outputs": []
    },
    {
      "cell_type": "markdown",
      "source": [
        "# **Resultados**"
      ],
      "metadata": {
        "id": "MmgawlRbptxq"
      }
    },
    {
      "cell_type": "markdown",
      "source": [
        "*Dados voltados à demografia*"
      ],
      "metadata": {
        "id": "wm4NMvSILIVY"
      }
    },
    {
      "cell_type": "code",
      "source": [
        "print('Média da idade dos entrevistados:', round(st.mean(Idade),3))\n",
        "print('Mediana da idade dos entrevistados:', round(st.median(Idade),3))\n",
        "print('Moda da idade dos  entrevistados:', round(st.mode(Idade),3))\n",
        "print('Variância da idade dos entrevistados:', round(st.variance(Idade),3))\n",
        "print('Desvio padrão da idade dos entrevistados:', round(st.stdev(Idade),3))\n",
        "print('Coeficiente de variação da idade dos :', cv(Idade))"
      ],
      "metadata": {
        "colab": {
          "base_uri": "https://localhost:8080/"
        },
        "id": "SIdiDan_LHW7",
        "outputId": "57d58c05-0dd6-4a50-f66d-9e819c65022f"
      },
      "execution_count": null,
      "outputs": [
        {
          "output_type": "stream",
          "name": "stdout",
          "text": [
            "Média da idade dos entrevistados: 23.546\n",
            "Mediana da idade dos entrevistados: 20.0\n",
            "Moda da idade dos  entrevistados: 20\n",
            "Variância da idade dos entrevistados: 55.154\n",
            "Desvio padrão da idade dos entrevistados: 7.427\n",
            "Coeficiente de variação da idade dos : 0.315\n"
          ]
        }
      ]
    },
    {
      "cell_type": "code",
      "source": [
        "print('Alunos que começaram durante a pandemia:', PeríodUni.count(1))\n",
        "print('Alunos que estão concluindo durante a pandemia:',PeríodUni.count(10))"
      ],
      "metadata": {
        "colab": {
          "base_uri": "https://localhost:8080/"
        },
        "id": "qljxuz8TM9Jq",
        "outputId": "7817919e-2e09-49ad-c373-0e67169d3087"
      },
      "execution_count": null,
      "outputs": [
        {
          "output_type": "stream",
          "name": "stdout",
          "text": [
            "Alunos que começaram durante a pandemia: 11\n",
            "Alunos que estão concluindo durante a pandemia: 8\n"
          ]
        }
      ]
    },
    {
      "cell_type": "code",
      "source": [
        "print('Número de Entrevistados por Gênero:')\n",
        "print('Homens:', Gen.count('Masculino'))\n",
        "print('Mulheres:', Gen.count('Feminino'))"
      ],
      "metadata": {
        "colab": {
          "base_uri": "https://localhost:8080/"
        },
        "id": "Rl9ci5ULMfp6",
        "outputId": "677b199f-da3e-4ac3-cdf5-8eb3bd2854cf"
      },
      "execution_count": null,
      "outputs": [
        {
          "output_type": "stream",
          "name": "stdout",
          "text": [
            "Número de Entrevistados por Gênero:\n",
            "Homens: 63\n",
            "Mulheres: 50\n"
          ]
        }
      ]
    },
    {
      "cell_type": "markdown",
      "source": [
        "*Dados voltados à satisfação:* "
      ],
      "metadata": {
        "id": "ID_KjTsf1bCV"
      }
    },
    {
      "cell_type": "code",
      "source": [
        "print('Média da satisfação:', round(st.mean(Satisfação),3))\n",
        "print('Mediana da  satisfação:', st.median(Satisfação))\n",
        "print('Moda da satisfação:', st.mode(Satisfação))\n",
        "print('Variância da satisfação:', round(st.variance(Satisfação),3))\n",
        "print('Desvio padrão da  satisfação:', round(st.stdev(Satisfação),3))\n",
        "print('Coeficiente de variação da satisfação:', cv(Satisfação))\n",
        "print('Intervalo de confiança (95%):', sms.DescrStatsW(Satisfação).tconfint_mean())"
      ],
      "metadata": {
        "colab": {
          "base_uri": "https://localhost:8080/",
          "height": 234
        },
        "id": "iF8Tc8AAKntw",
        "outputId": "3766e813-beb8-4f6f-b9dc-565bfb5a4d79"
      },
      "execution_count": null,
      "outputs": [
        {
          "output_type": "error",
          "ename": "NameError",
          "evalue": "ignored",
          "traceback": [
            "\u001b[0;31m---------------------------------------------------------------------------\u001b[0m",
            "\u001b[0;31mNameError\u001b[0m                                 Traceback (most recent call last)",
            "\u001b[0;32m<ipython-input-1-0b6beea1c006>\u001b[0m in \u001b[0;36m<module>\u001b[0;34m()\u001b[0m\n\u001b[0;32m----> 1\u001b[0;31m \u001b[0mprint\u001b[0m\u001b[0;34m(\u001b[0m\u001b[0;34m'Média da satisfação:'\u001b[0m\u001b[0;34m,\u001b[0m \u001b[0mround\u001b[0m\u001b[0;34m(\u001b[0m\u001b[0mst\u001b[0m\u001b[0;34m.\u001b[0m\u001b[0mmean\u001b[0m\u001b[0;34m(\u001b[0m\u001b[0mSatisfação\u001b[0m\u001b[0;34m)\u001b[0m\u001b[0;34m,\u001b[0m\u001b[0;36m3\u001b[0m\u001b[0;34m)\u001b[0m\u001b[0;34m)\u001b[0m\u001b[0;34m\u001b[0m\u001b[0;34m\u001b[0m\u001b[0m\n\u001b[0m\u001b[1;32m      2\u001b[0m \u001b[0mprint\u001b[0m\u001b[0;34m(\u001b[0m\u001b[0;34m'Mediana da  satisfação:'\u001b[0m\u001b[0;34m,\u001b[0m \u001b[0mst\u001b[0m\u001b[0;34m.\u001b[0m\u001b[0mmedian\u001b[0m\u001b[0;34m(\u001b[0m\u001b[0mSatisfação\u001b[0m\u001b[0;34m)\u001b[0m\u001b[0;34m)\u001b[0m\u001b[0;34m\u001b[0m\u001b[0;34m\u001b[0m\u001b[0m\n\u001b[1;32m      3\u001b[0m \u001b[0mprint\u001b[0m\u001b[0;34m(\u001b[0m\u001b[0;34m'Moda da satisfação:'\u001b[0m\u001b[0;34m,\u001b[0m \u001b[0mst\u001b[0m\u001b[0;34m.\u001b[0m\u001b[0mmode\u001b[0m\u001b[0;34m(\u001b[0m\u001b[0mSatisfação\u001b[0m\u001b[0;34m)\u001b[0m\u001b[0;34m)\u001b[0m\u001b[0;34m\u001b[0m\u001b[0;34m\u001b[0m\u001b[0m\n\u001b[1;32m      4\u001b[0m \u001b[0mprint\u001b[0m\u001b[0;34m(\u001b[0m\u001b[0;34m'Variância da satisfação:'\u001b[0m\u001b[0;34m,\u001b[0m \u001b[0mround\u001b[0m\u001b[0;34m(\u001b[0m\u001b[0mst\u001b[0m\u001b[0;34m.\u001b[0m\u001b[0mvariance\u001b[0m\u001b[0;34m(\u001b[0m\u001b[0mSatisfação\u001b[0m\u001b[0;34m)\u001b[0m\u001b[0;34m,\u001b[0m\u001b[0;36m3\u001b[0m\u001b[0;34m)\u001b[0m\u001b[0;34m)\u001b[0m\u001b[0;34m\u001b[0m\u001b[0;34m\u001b[0m\u001b[0m\n\u001b[1;32m      5\u001b[0m \u001b[0mprint\u001b[0m\u001b[0;34m(\u001b[0m\u001b[0;34m'Desvio padrão da  satisfação:'\u001b[0m\u001b[0;34m,\u001b[0m \u001b[0mround\u001b[0m\u001b[0;34m(\u001b[0m\u001b[0mst\u001b[0m\u001b[0;34m.\u001b[0m\u001b[0mstdev\u001b[0m\u001b[0;34m(\u001b[0m\u001b[0mSatisfação\u001b[0m\u001b[0;34m)\u001b[0m\u001b[0;34m,\u001b[0m\u001b[0;36m3\u001b[0m\u001b[0;34m)\u001b[0m\u001b[0;34m)\u001b[0m\u001b[0;34m\u001b[0m\u001b[0;34m\u001b[0m\u001b[0m\n",
            "\u001b[0;31mNameError\u001b[0m: name 'st' is not defined"
          ]
        }
      ]
    },
    {
      "cell_type": "markdown",
      "source": [
        "*Quantos Alunos...*"
      ],
      "metadata": {
        "id": "Z_dS1Hw3y8iN"
      }
    },
    {
      "cell_type": "code",
      "source": [
        "print('Estão Tristes ou Desapontados com o sistema atual:', round(100*SenNeg()/SenTotal(),3),'%')\n",
        "print('Estão Felizes ou Neutros com o sistema atual:', round(100*SenPosi()/SenTotal(),3),'%')"
      ],
      "metadata": {
        "colab": {
          "base_uri": "https://localhost:8080/"
        },
        "id": "aeF6hP5GkLVH",
        "outputId": "f4dbfc87-ecc3-4a31-e73c-8fd1c3e067b3"
      },
      "execution_count": null,
      "outputs": [
        {
          "output_type": "stream",
          "name": "stdout",
          "text": [
            "Estão Tristes ou Desapontados com o sistema atual: 36.283 %\n",
            "Estão Felizes ou Neutros com o sistema atual: 63.717 %\n"
          ]
        }
      ]
    },
    {
      "cell_type": "code",
      "source": [
        "print('Tiveram Dificuldade na Metodolgia:', round(100*Dificuldade.count('Sim')/DifTotal(),3),'%')"
      ],
      "metadata": {
        "colab": {
          "base_uri": "https://localhost:8080/"
        },
        "id": "NlZKB3aWyXqH",
        "outputId": "becdac43-b4a7-4686-fb1a-94905b2fc5e7"
      },
      "execution_count": null,
      "outputs": [
        {
          "output_type": "stream",
          "name": "stdout",
          "text": [
            "Tiveram Dificuldade na Metodolgia: 68.142 %\n"
          ]
        }
      ]
    },
    {
      "cell_type": "code",
      "source": [
        "print('Se sentiram sem motivação:', round(100*Desmotivação.count('Sim')/DesTotal(),3),'%')"
      ],
      "metadata": {
        "colab": {
          "base_uri": "https://localhost:8080/"
        },
        "id": "fR8hsV5YuodM",
        "outputId": "1b5c3db3-b72c-42e9-cc01-19eeb5595a14"
      },
      "execution_count": null,
      "outputs": [
        {
          "output_type": "stream",
          "name": "stdout",
          "text": [
            "Se sentiram sem motivação: 84.956 %\n"
          ]
        }
      ]
    },
    {
      "cell_type": "code",
      "source": [
        "print('Pensaram em Desistir', round(100*Pensou_em_Desistência.count('Sim')/(PeDTotal()),3),'%')"
      ],
      "metadata": {
        "colab": {
          "base_uri": "https://localhost:8080/"
        },
        "id": "gYpS8BqiSRXc",
        "outputId": "4f16fa90-b9dd-46a2-f40b-295ff1f9e110"
      },
      "execution_count": null,
      "outputs": [
        {
          "output_type": "stream",
          "name": "stdout",
          "text": [
            "Pensaram em Desistir 57.522 %\n"
          ]
        }
      ]
    }
  ]
}